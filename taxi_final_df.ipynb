{
 "cells": [
  {
   "cell_type": "code",
   "execution_count": 1,
   "metadata": {},
   "outputs": [],
   "source": [
    "import pandas as pd\n",
    "import numpy as np\n",
    "import csv"
   ]
  },
  {
   "cell_type": "code",
   "execution_count": 2,
   "metadata": {},
   "outputs": [],
   "source": [
    "#read 2014 summary data\n",
    "\n",
    "jan2014 = \"jan2014summary.csv\"\n",
    "jan2014_df = pd.read_csv(jan2014)\n",
    "\n",
    "feb2014 = \"feb2014summary.csv\"\n",
    "feb2014_df = pd.read_csv(feb2014)\n",
    "\n",
    "mar2014 = \"mar2014summary.csv\"\n",
    "mar2014_df = pd.read_csv(mar2014)\n",
    "\n",
    "apr2014 = \"apr2014summary.csv\"\n",
    "apr2014_df = pd.read_csv(apr2014)\n",
    "\n",
    "may2014 = \"may2014summary.csv\"\n",
    "may2014_df = pd.read_csv(may2014)\n",
    "\n",
    "jun2014 = \"jun2014summary.csv\"\n",
    "jun2014_df = pd.read_csv(jun2014)\n",
    "\n",
    "jul2014 = \"jul2014summary.csv\"\n",
    "jul2014_df = pd.read_csv(jul2014)\n",
    "\n",
    "aug2014 = \"aug2014summary.csv\"\n",
    "aug2014_df = pd.read_csv(aug2014)\n",
    "\n",
    "sep2014 = \"sep2014summary.csv\"\n",
    "sep2014_df = pd.read_csv(sep2014)\n",
    "\n",
    "oct2014 = \"oct2014summary.csv\"\n",
    "oct2014_df = pd.read_csv(oct2014)\n",
    "\n",
    "nov2014 = \"nov2014summary.csv\"\n",
    "nov2014_df = pd.read_csv(nov2014)\n",
    "\n",
    "dec2014 = \"dec2014summary.csv\"\n",
    "dec2014_df = pd.read_csv(dec2014)\n",
    "\n",
    "#read 2015 summary data\n",
    "\n",
    "jan2015 = \"jan2015summary.csv\"\n",
    "jan2015_df = pd.read_csv(jan2015)\n",
    "\n",
    "feb2015 = \"feb2015summary.csv\"\n",
    "feb2015_df = pd.read_csv(feb2015)\n",
    "\n",
    "mar2015 = \"mar2015summary.csv\"\n",
    "mar2015_df = pd.read_csv(mar2015)\n",
    "\n",
    "apr2015 = \"apr2015summary.csv\"\n",
    "apr2015_df = pd.read_csv(apr2015)\n",
    "\n",
    "may2015 = \"may2015summary.csv\"\n",
    "may2015_df = pd.read_csv(may2015)\n",
    "\n",
    "jun2015 = \"jun2015summary.csv\"\n",
    "jun2015_df = pd.read_csv(jun2015)"
   ]
  },
  {
   "cell_type": "code",
   "execution_count": 3,
   "metadata": {},
   "outputs": [],
   "source": [
    "jantofeb2014 = jan2014_df.append(feb2014_df, ignore_index=True)"
   ]
  },
  {
   "cell_type": "code",
   "execution_count": 4,
   "metadata": {},
   "outputs": [],
   "source": [
    "jantomar2014 = jantofeb2014.append(mar2014_df, ignore_index=True)"
   ]
  },
  {
   "cell_type": "code",
   "execution_count": 5,
   "metadata": {},
   "outputs": [],
   "source": [
    "jantoapr2014 = jantomar2014.append(apr2014_df, ignore_index=True)"
   ]
  },
  {
   "cell_type": "code",
   "execution_count": 6,
   "metadata": {},
   "outputs": [],
   "source": [
    "jantomay2014 = jantoapr2014.append(may2014_df, ignore_index=True)"
   ]
  },
  {
   "cell_type": "code",
   "execution_count": 7,
   "metadata": {},
   "outputs": [],
   "source": [
    "jantojun2014 = jantomay2014.append(jun2014_df, ignore_index=True)"
   ]
  },
  {
   "cell_type": "code",
   "execution_count": 8,
   "metadata": {},
   "outputs": [],
   "source": [
    "jantojul2014 = jantojun2014.append(jul2014_df, ignore_index=True)"
   ]
  },
  {
   "cell_type": "code",
   "execution_count": 9,
   "metadata": {},
   "outputs": [],
   "source": [
    "jantoaug2014 = jantojul2014.append(aug2014_df, ignore_index=True)"
   ]
  },
  {
   "cell_type": "code",
   "execution_count": 10,
   "metadata": {},
   "outputs": [],
   "source": [
    "jantosep2014 = jantoaug2014.append(sep2014_df, ignore_index=True)"
   ]
  },
  {
   "cell_type": "code",
   "execution_count": 11,
   "metadata": {},
   "outputs": [],
   "source": [
    "jantooct2014 = jantosep2014.append(oct2014_df, ignore_index=True)"
   ]
  },
  {
   "cell_type": "code",
   "execution_count": 12,
   "metadata": {},
   "outputs": [],
   "source": [
    "jantonov2014 = jantooct2014.append(nov2014_df, ignore_index=True)"
   ]
  },
  {
   "cell_type": "code",
   "execution_count": 13,
   "metadata": {},
   "outputs": [],
   "source": [
    "jantodec2014 = jantonov2014.append(dec2014_df, ignore_index=True)"
   ]
  },
  {
   "cell_type": "code",
   "execution_count": 14,
   "metadata": {},
   "outputs": [],
   "source": [
    "jan2014tojan2015 = jantodec2014.append(jan2015_df, ignore_index=True)"
   ]
  },
  {
   "cell_type": "code",
   "execution_count": 15,
   "metadata": {},
   "outputs": [],
   "source": [
    "jan2014tofeb2015 = jan2014tojan2015.append(feb2015_df, ignore_index=True)"
   ]
  },
  {
   "cell_type": "code",
   "execution_count": 16,
   "metadata": {},
   "outputs": [],
   "source": [
    "jan2014tomar2015 = jan2014tofeb2015.append(mar2015_df, ignore_index=True)"
   ]
  },
  {
   "cell_type": "code",
   "execution_count": 17,
   "metadata": {},
   "outputs": [],
   "source": [
    "jan2014toapr2015 = jan2014tomar2015.append(apr2015_df, ignore_index=True)"
   ]
  },
  {
   "cell_type": "code",
   "execution_count": 18,
   "metadata": {},
   "outputs": [],
   "source": [
    "jan2014tomay2015 = jan2014toapr2015.append(may2015_df, ignore_index=True)"
   ]
  },
  {
   "cell_type": "code",
   "execution_count": 19,
   "metadata": {},
   "outputs": [],
   "source": [
    "taxi_final_df = jan2014tomay2015.append(jun2015_df, ignore_index=True)"
   ]
  },
  {
   "cell_type": "code",
   "execution_count": 20,
   "metadata": {},
   "outputs": [
    {
     "data": {
      "text/html": [
       "<div>\n",
       "<style scoped>\n",
       "    .dataframe tbody tr th:only-of-type {\n",
       "        vertical-align: middle;\n",
       "    }\n",
       "\n",
       "    .dataframe tbody tr th {\n",
       "        vertical-align: top;\n",
       "    }\n",
       "\n",
       "    .dataframe thead th {\n",
       "        text-align: right;\n",
       "    }\n",
       "</style>\n",
       "<table border=\"1\" class=\"dataframe\">\n",
       "  <thead>\n",
       "    <tr style=\"text-align: right;\">\n",
       "      <th></th>\n",
       "      <th>Date</th>\n",
       "      <th>Time</th>\n",
       "      <th>Taxi_Vendor</th>\n",
       "    </tr>\n",
       "  </thead>\n",
       "  <tbody>\n",
       "    <tr>\n",
       "      <th>0</th>\n",
       "      <td>2014-01-01</td>\n",
       "      <td>420810</td>\n",
       "      <td>420810</td>\n",
       "    </tr>\n",
       "    <tr>\n",
       "      <th>1</th>\n",
       "      <td>2014-01-02</td>\n",
       "      <td>359958</td>\n",
       "      <td>359958</td>\n",
       "    </tr>\n",
       "    <tr>\n",
       "      <th>2</th>\n",
       "      <td>2014-01-03</td>\n",
       "      <td>275470</td>\n",
       "      <td>275470</td>\n",
       "    </tr>\n",
       "    <tr>\n",
       "      <th>3</th>\n",
       "      <td>2014-01-04</td>\n",
       "      <td>417499</td>\n",
       "      <td>417499</td>\n",
       "    </tr>\n",
       "    <tr>\n",
       "      <th>4</th>\n",
       "      <td>2014-01-05</td>\n",
       "      <td>388542</td>\n",
       "      <td>388542</td>\n",
       "    </tr>\n",
       "  </tbody>\n",
       "</table>\n",
       "</div>"
      ],
      "text/plain": [
       "         Date    Time  Taxi_Vendor\n",
       "0  2014-01-01  420810       420810\n",
       "1  2014-01-02  359958       359958\n",
       "2  2014-01-03  275470       275470\n",
       "3  2014-01-04  417499       417499\n",
       "4  2014-01-05  388542       388542"
      ]
     },
     "execution_count": 20,
     "metadata": {},
     "output_type": "execute_result"
    }
   ],
   "source": [
    "taxi_final_df.head()"
   ]
  },
  {
   "cell_type": "code",
   "execution_count": 21,
   "metadata": {},
   "outputs": [],
   "source": [
    "taxi_final_df = taxi_final_df.drop(\"Taxi_Vendor\", axis = 1)"
   ]
  },
  {
   "cell_type": "code",
   "execution_count": 22,
   "metadata": {},
   "outputs": [
    {
     "data": {
      "text/html": [
       "<div>\n",
       "<style scoped>\n",
       "    .dataframe tbody tr th:only-of-type {\n",
       "        vertical-align: middle;\n",
       "    }\n",
       "\n",
       "    .dataframe tbody tr th {\n",
       "        vertical-align: top;\n",
       "    }\n",
       "\n",
       "    .dataframe thead th {\n",
       "        text-align: right;\n",
       "    }\n",
       "</style>\n",
       "<table border=\"1\" class=\"dataframe\">\n",
       "  <thead>\n",
       "    <tr style=\"text-align: right;\">\n",
       "      <th></th>\n",
       "      <th>Date</th>\n",
       "      <th>Time</th>\n",
       "    </tr>\n",
       "  </thead>\n",
       "  <tbody>\n",
       "    <tr>\n",
       "      <th>0</th>\n",
       "      <td>2014-01-01</td>\n",
       "      <td>420810</td>\n",
       "    </tr>\n",
       "    <tr>\n",
       "      <th>1</th>\n",
       "      <td>2014-01-02</td>\n",
       "      <td>359958</td>\n",
       "    </tr>\n",
       "    <tr>\n",
       "      <th>2</th>\n",
       "      <td>2014-01-03</td>\n",
       "      <td>275470</td>\n",
       "    </tr>\n",
       "    <tr>\n",
       "      <th>3</th>\n",
       "      <td>2014-01-04</td>\n",
       "      <td>417499</td>\n",
       "    </tr>\n",
       "    <tr>\n",
       "      <th>4</th>\n",
       "      <td>2014-01-05</td>\n",
       "      <td>388542</td>\n",
       "    </tr>\n",
       "  </tbody>\n",
       "</table>\n",
       "</div>"
      ],
      "text/plain": [
       "         Date    Time\n",
       "0  2014-01-01  420810\n",
       "1  2014-01-02  359958\n",
       "2  2014-01-03  275470\n",
       "3  2014-01-04  417499\n",
       "4  2014-01-05  388542"
      ]
     },
     "execution_count": 22,
     "metadata": {},
     "output_type": "execute_result"
    }
   ],
   "source": [
    "taxi_final_df.head()"
   ]
  },
  {
   "cell_type": "code",
   "execution_count": 23,
   "metadata": {},
   "outputs": [],
   "source": [
    "taxi_summary_final = taxi_final_df.rename(columns = {\"Time\": \"Ride Count\"})\n"
   ]
  },
  {
   "cell_type": "code",
   "execution_count": 24,
   "metadata": {},
   "outputs": [
    {
     "data": {
      "text/html": [
       "<div>\n",
       "<style scoped>\n",
       "    .dataframe tbody tr th:only-of-type {\n",
       "        vertical-align: middle;\n",
       "    }\n",
       "\n",
       "    .dataframe tbody tr th {\n",
       "        vertical-align: top;\n",
       "    }\n",
       "\n",
       "    .dataframe thead th {\n",
       "        text-align: right;\n",
       "    }\n",
       "</style>\n",
       "<table border=\"1\" class=\"dataframe\">\n",
       "  <thead>\n",
       "    <tr style=\"text-align: right;\">\n",
       "      <th></th>\n",
       "      <th>Date</th>\n",
       "      <th>Ride Count</th>\n",
       "    </tr>\n",
       "  </thead>\n",
       "  <tbody>\n",
       "    <tr>\n",
       "      <th>0</th>\n",
       "      <td>2014-01-01</td>\n",
       "      <td>420810</td>\n",
       "    </tr>\n",
       "    <tr>\n",
       "      <th>1</th>\n",
       "      <td>2014-01-02</td>\n",
       "      <td>359958</td>\n",
       "    </tr>\n",
       "    <tr>\n",
       "      <th>2</th>\n",
       "      <td>2014-01-03</td>\n",
       "      <td>275470</td>\n",
       "    </tr>\n",
       "    <tr>\n",
       "      <th>3</th>\n",
       "      <td>2014-01-04</td>\n",
       "      <td>417499</td>\n",
       "    </tr>\n",
       "    <tr>\n",
       "      <th>4</th>\n",
       "      <td>2014-01-05</td>\n",
       "      <td>388542</td>\n",
       "    </tr>\n",
       "  </tbody>\n",
       "</table>\n",
       "</div>"
      ],
      "text/plain": [
       "         Date  Ride Count\n",
       "0  2014-01-01      420810\n",
       "1  2014-01-02      359958\n",
       "2  2014-01-03      275470\n",
       "3  2014-01-04      417499\n",
       "4  2014-01-05      388542"
      ]
     },
     "execution_count": 24,
     "metadata": {},
     "output_type": "execute_result"
    }
   ],
   "source": [
    "taxi_summary_final.head()"
   ]
  },
  {
   "cell_type": "code",
   "execution_count": 25,
   "metadata": {},
   "outputs": [],
   "source": [
    "taxi_summary_final.to_csv(\"taxi_final_df.csv\")"
   ]
  },
  {
   "cell_type": "code",
   "execution_count": 26,
   "metadata": {},
   "outputs": [],
   "source": [
    "#taxi_final_df = taxi_final_df.rename(columns={\"VendorID\": \"vendor_id\", \"tpep_pickup_datetime\":\"pickup_datetime\"})"
   ]
  }
 ],
 "metadata": {
  "kernelspec": {
   "display_name": "Python 3",
   "language": "python",
   "name": "python3"
  },
  "language_info": {
   "codemirror_mode": {
    "name": "ipython",
    "version": 3
   },
   "file_extension": ".py",
   "mimetype": "text/x-python",
   "name": "python",
   "nbconvert_exporter": "python",
   "pygments_lexer": "ipython3",
   "version": "3.6.6"
  }
 },
 "nbformat": 4,
 "nbformat_minor": 2
}

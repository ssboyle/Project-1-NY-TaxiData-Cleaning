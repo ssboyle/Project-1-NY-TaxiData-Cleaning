{
 "cells": [
  {
   "cell_type": "code",
   "execution_count": 1,
   "metadata": {},
   "outputs": [],
   "source": [
    "import pandas as pd\n",
    "import numpy as np\n",
    "import csv"
   ]
  },
  {
   "cell_type": "code",
   "execution_count": 2,
   "metadata": {},
   "outputs": [],
   "source": [
    "jan2014 = \"../Project_TaxiData/jan2014_df2.csv\"\n",
    "jan2014_df = pd.read_csv(jan2014)\n",
    "\n",
    "feb2014 = \"../Project_TaxiData/feb2014_df2.csv\"\n",
    "feb2014_df = pd.read_csv(feb2014)\n",
    "\n",
    "mar2014 = \"../Project_TaxiData/mar2014_df2.csv\"\n",
    "mar2014_df = pd.read_csv(mar2014)\n",
    "\n",
    "apr2014 = \"../Project_TaxiData/apr2014_df2.csv\"\n",
    "apr2014_df = pd.read_csv(apr2014)\n",
    "\n",
    "may2014 = \"../Project_TaxiData/may2014_df2.csv\"\n",
    "may2014_df = pd.read_csv(may2014)\n",
    "\n",
    "jun2014 = \"../Project_TaxiData/jun2014_df2.csv\"\n",
    "jun2014_df = pd.read_csv(jun2014)\n",
    "\n",
    "jul2014 = \"../Project_TaxiData/jul2014_df2.csv\"\n",
    "jul2014_df = pd.read_csv(jul2014)\n",
    "\n",
    "aug2014 = \"../Project_TaxiData/aug2014_df2.csv\"\n",
    "aug2014_df = pd.read_csv(aug2014)\n",
    "\n",
    "sep2014 = \"../Project_TaxiData/sep2014_df2.csv\"\n",
    "sep2014_df = pd.read_csv(sep2014)\n",
    "\n",
    "oct2014 = \"../Project_TaxiData/oct2014_df2.csv\"\n",
    "oct2014_df = pd.read_csv(oct2014)\n",
    "\n",
    "nov2014 = \"../Project_TaxiData/nov2014_df2.csv\"\n",
    "nov2014_df = pd.read_csv(nov2014)\n",
    "\n",
    "dec2014 = \"../Project_TaxiData/dec2014_df2.csv\"\n",
    "dec2014_df = pd.read_csv(dec2014)"
   ]
  },
  {
   "cell_type": "code",
   "execution_count": 3,
   "metadata": {},
   "outputs": [],
   "source": [
    "janfeb2014 = jan2014_df.append(feb2014_df, ignore_index=True)"
   ]
  },
  {
   "cell_type": "code",
   "execution_count": 4,
   "metadata": {},
   "outputs": [],
   "source": [
    "janfebmar2014 = janfeb2014.append(mar2014_df, ignore_index=True)"
   ]
  },
  {
   "cell_type": "code",
   "execution_count": 6,
   "metadata": {},
   "outputs": [],
   "source": [
    "jantoapr2014 = janfebmar2014.append(apr2014_df, ignore_index=True)"
   ]
  },
  {
   "cell_type": "code",
   "execution_count": 8,
   "metadata": {},
   "outputs": [],
   "source": [
    "jantomay2014 = jantoapr2014.append(may2014_df, ignore_index=True)"
   ]
  },
  {
   "cell_type": "code",
   "execution_count": 9,
   "metadata": {},
   "outputs": [],
   "source": [
    "jantojun2014 = jantomay2014.append(jun2014_df, ignore_index=True)"
   ]
  },
  {
   "cell_type": "code",
   "execution_count": 10,
   "metadata": {},
   "outputs": [],
   "source": [
    "jantojul2014 = jantojun2014.append(jul2014_df, ignore_index=True)"
   ]
  },
  {
   "cell_type": "code",
   "execution_count": 11,
   "metadata": {},
   "outputs": [],
   "source": [
    "jantoaug2014 = jantojul2014.append(aug2014_df, ignore_index=True)"
   ]
  },
  {
   "cell_type": "code",
   "execution_count": 12,
   "metadata": {},
   "outputs": [],
   "source": [
    "jantosep2014 = jantoaug2014.append(sep2014_df, ignore_index=True)"
   ]
  },
  {
   "cell_type": "code",
   "execution_count": 14,
   "metadata": {},
   "outputs": [],
   "source": [
    "jantooct2014 = jantosep2014.append(oct2014_df, ignore_index=True)"
   ]
  },
  {
   "cell_type": "code",
   "execution_count": 15,
   "metadata": {},
   "outputs": [],
   "source": [
    "jantonov2014 = jantooct2014.append(nov2014_df, ignore_index=True)"
   ]
  },
  {
   "cell_type": "code",
   "execution_count": 16,
   "metadata": {},
   "outputs": [],
   "source": [
    "merged2014 = jantonov2014.append(dec2014_df, ignore_index=True)"
   ]
  },
  {
   "cell_type": "code",
   "execution_count": 17,
   "metadata": {},
   "outputs": [],
   "source": [
    "merged2014.to_csv(\"merged2014.csv\")"
   ]
  },
  {
   "cell_type": "code",
   "execution_count": 18,
   "metadata": {},
   "outputs": [],
   "source": [
    "jan2015 = \"../Project_TaxiData/jan2015_df2.csv\"\n",
    "jan2015_df = pd.read_csv(jan2015)\n",
    "\n",
    "feb2015 = \"../Project_TaxiData/feb2015_df2.csv\"\n",
    "feb2015_df = pd.read_csv(feb2015)\n",
    "\n",
    "mar2015 = \"../Project_TaxiData/mar2015_df2.csv\"\n",
    "mar2015_df = pd.read_csv(mar2015)\n",
    "\n",
    "apr2015 = \"../Project_TaxiData/apr2015_df2.csv\"\n",
    "apr2015_df = pd.read_csv(apr2015)\n",
    "\n",
    "may2015 = \"../Project_TaxiData/may2015_df2.csv\"\n",
    "may2015_df = pd.read_csv(may2015)\n",
    "\n",
    "jun2015 = \"../Project_TaxiData/jun2015_df2.csv\"\n",
    "jun2015_df = pd.read_csv(jun2015)\n"
   ]
  },
  {
   "cell_type": "code",
   "execution_count": 19,
   "metadata": {},
   "outputs": [],
   "source": [
    "janfeb2015 = jan2015_df.append(feb2015_df, ignore_index=True)"
   ]
  },
  {
   "cell_type": "code",
   "execution_count": 20,
   "metadata": {},
   "outputs": [],
   "source": [
    "janfebmar2015 = janfeb2015.append(mar2015_df, ignore_index=True)"
   ]
  },
  {
   "cell_type": "code",
   "execution_count": 21,
   "metadata": {},
   "outputs": [],
   "source": [
    "jantoapr2015 = janfebmar2015.append(apr2015_df, ignore_index=True)"
   ]
  },
  {
   "cell_type": "code",
   "execution_count": 22,
   "metadata": {},
   "outputs": [],
   "source": [
    "jantomay2015 = jantoapr2015.append(may2015_df, ignore_index=True)"
   ]
  },
  {
   "cell_type": "code",
   "execution_count": 23,
   "metadata": {},
   "outputs": [],
   "source": [
    "merged2015 = jantomay2015.append(jun2015_df, ignore_index=True)"
   ]
  },
  {
   "cell_type": "code",
   "execution_count": 24,
   "metadata": {},
   "outputs": [],
   "source": [
    "merged2015.to_csv(\"merged2015.csv\")"
   ]
  },
  {
   "cell_type": "code",
   "execution_count": 28,
   "metadata": {},
   "outputs": [
    {
     "data": {
      "text/html": [
       "<div>\n",
       "<style scoped>\n",
       "    .dataframe tbody tr th:only-of-type {\n",
       "        vertical-align: middle;\n",
       "    }\n",
       "\n",
       "    .dataframe tbody tr th {\n",
       "        vertical-align: top;\n",
       "    }\n",
       "\n",
       "    .dataframe thead th {\n",
       "        text-align: right;\n",
       "    }\n",
       "</style>\n",
       "<table border=\"1\" class=\"dataframe\">\n",
       "  <thead>\n",
       "    <tr style=\"text-align: right;\">\n",
       "      <th></th>\n",
       "      <th>Unnamed: 0</th>\n",
       "      <th>vendor_id</th>\n",
       "      <th>pickup_datetime</th>\n",
       "    </tr>\n",
       "  </thead>\n",
       "  <tbody>\n",
       "    <tr>\n",
       "      <th>0</th>\n",
       "      <td>0</td>\n",
       "      <td>CMT</td>\n",
       "      <td>2014-01-09 20:45:25</td>\n",
       "    </tr>\n",
       "    <tr>\n",
       "      <th>1</th>\n",
       "      <td>1</td>\n",
       "      <td>CMT</td>\n",
       "      <td>2014-01-09 20:46:12</td>\n",
       "    </tr>\n",
       "    <tr>\n",
       "      <th>2</th>\n",
       "      <td>2</td>\n",
       "      <td>CMT</td>\n",
       "      <td>2014-01-09 20:44:47</td>\n",
       "    </tr>\n",
       "    <tr>\n",
       "      <th>3</th>\n",
       "      <td>3</td>\n",
       "      <td>CMT</td>\n",
       "      <td>2014-01-09 20:44:57</td>\n",
       "    </tr>\n",
       "    <tr>\n",
       "      <th>4</th>\n",
       "      <td>4</td>\n",
       "      <td>CMT</td>\n",
       "      <td>2014-01-09 20:47:09</td>\n",
       "    </tr>\n",
       "  </tbody>\n",
       "</table>\n",
       "</div>"
      ],
      "text/plain": [
       "   Unnamed: 0 vendor_id      pickup_datetime\n",
       "0           0       CMT  2014-01-09 20:45:25\n",
       "1           1       CMT  2014-01-09 20:46:12\n",
       "2           2       CMT  2014-01-09 20:44:47\n",
       "3           3       CMT  2014-01-09 20:44:57\n",
       "4           4       CMT  2014-01-09 20:47:09"
      ]
     },
     "execution_count": 28,
     "metadata": {},
     "output_type": "execute_result"
    }
   ],
   "source": [
    "merged2014.head()"
   ]
  },
  {
   "cell_type": "code",
   "execution_count": null,
   "metadata": {},
   "outputs": [],
   "source": [
    "#merged2015.head()"
   ]
  },
  {
   "cell_type": "code",
   "execution_count": 5,
   "metadata": {},
   "outputs": [],
   "source": [
    "#merged2015 = merged2015.rename(columns={\"VendorID\": \"vendor_id\", \"tpep_pickup_datetime\":\"pickup_datetime\"})"
   ]
  },
  {
   "cell_type": "code",
   "execution_count": null,
   "metadata": {},
   "outputs": [],
   "source": []
  }
 ],
 "metadata": {
  "kernelspec": {
   "display_name": "Python 3",
   "language": "python",
   "name": "python3"
  },
  "language_info": {
   "codemirror_mode": {
    "name": "ipython",
    "version": 3
   },
   "file_extension": ".py",
   "mimetype": "text/x-python",
   "name": "python",
   "nbconvert_exporter": "python",
   "pygments_lexer": "ipython3",
   "version": "3.6.6"
  }
 },
 "nbformat": 4,
 "nbformat_minor": 2
}
